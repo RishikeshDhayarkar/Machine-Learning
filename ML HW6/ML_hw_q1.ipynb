{
  "nbformat": 4,
  "nbformat_minor": 0,
  "metadata": {
    "colab": {
      "name": "ML_hw_q1.ipynb",
      "provenance": [],
      "collapsed_sections": []
    },
    "kernelspec": {
      "name": "python3",
      "display_name": "Python 3"
    }
  },
  "cells": [
    {
      "cell_type": "code",
      "metadata": {
        "id": "W2jXvvWhPeLU",
        "colab_type": "code",
        "colab": {}
      },
      "source": [
        "import numpy as np\n",
        "import matplotlib\n",
        "import matplotlib.pyplot as plt\n",
        "from numpy import array\n",
        "from numpy import diag\n",
        "from numpy import dot\n",
        "from numpy import zeros\n",
        "from sklearn.decomposition import PCA\n",
        "from numpy import dot\n",
        "from numpy.linalg import inv\n",
        "from sklearn.metrics import mean_squared_error"
      ],
      "execution_count": 0,
      "outputs": []
    },
    {
      "cell_type": "markdown",
      "metadata": {
        "id": "9nWhgJlsVV0w",
        "colab_type": "text"
      },
      "source": [
        "Generating data"
      ]
    },
    {
      "cell_type": "code",
      "metadata": {
        "id": "FC0Nqj8cPg_Y",
        "colab_type": "code",
        "colab": {
          "base_uri": "https://localhost:8080/",
          "height": 84
        },
        "outputId": "5927f067-ac66-40cb-c2e7-1aef71f0cab4"
      },
      "source": [
        "X = np.array([3,2,1,2,4,5,1,2,3,0,2,5])\n",
        "X = np.reshape(X,(4,3))\n",
        "print(X)"
      ],
      "execution_count": 2,
      "outputs": [
        {
          "output_type": "stream",
          "text": [
            "[[3 2 1]\n",
            " [2 4 5]\n",
            " [1 2 3]\n",
            " [0 2 5]]\n"
          ],
          "name": "stdout"
        }
      ]
    },
    {
      "cell_type": "markdown",
      "metadata": {
        "id": "-KM6x7xSVYql",
        "colab_type": "text"
      },
      "source": [
        "Finding sample mean"
      ]
    },
    {
      "cell_type": "code",
      "metadata": {
        "id": "44Yz4l6JPkdB",
        "colab_type": "code",
        "colab": {
          "base_uri": "https://localhost:8080/",
          "height": 34
        },
        "outputId": "7a8ab650-a7a9-42fc-a1dd-cd6039bb104f"
      },
      "source": [
        "mean = np.mean(X,axis = 0, dtype='float64')\n",
        "print(f\"Mean of the columns of X {mean}\") "
      ],
      "execution_count": 3,
      "outputs": [
        {
          "output_type": "stream",
          "text": [
            "Mean of the columns of X [1.5 2.5 3.5]\n"
          ],
          "name": "stdout"
        }
      ]
    },
    {
      "cell_type": "markdown",
      "metadata": {
        "id": "Ee_xl4pvVc6K",
        "colab_type": "text"
      },
      "source": [
        "Zero centering of the samples"
      ]
    },
    {
      "cell_type": "code",
      "metadata": {
        "id": "iXQy_V82PlmH",
        "colab_type": "code",
        "colab": {
          "base_uri": "https://localhost:8080/",
          "height": 84
        },
        "outputId": "9388c5cb-c13d-41b7-ae31-950c5b3c527c"
      },
      "source": [
        "X = X - mean\n",
        "print(X)"
      ],
      "execution_count": 4,
      "outputs": [
        {
          "output_type": "stream",
          "text": [
            "[[ 1.5 -0.5 -2.5]\n",
            " [ 0.5  1.5  1.5]\n",
            " [-0.5 -0.5 -0.5]\n",
            " [-1.5 -0.5  1.5]]\n"
          ],
          "name": "stdout"
        }
      ]
    },
    {
      "cell_type": "markdown",
      "metadata": {
        "id": "eFI-GcXTckSv",
        "colab_type": "text"
      },
      "source": [
        "<h3>PCA by Eigen value decomposition of covariance matrix</h3>"
      ]
    },
    {
      "cell_type": "code",
      "metadata": {
        "id": "HibEJ51_apxX",
        "colab_type": "code",
        "colab": {
          "base_uri": "https://localhost:8080/",
          "height": 118
        },
        "outputId": "372c3457-88ac-4dc4-d8e0-81fdf168639c"
      },
      "source": [
        "from numpy import cov\n",
        "from numpy.linalg import eig\n",
        "V = cov(X.T)\n",
        "Evalues, Evectors = eig(V)\n",
        "print(f\"Eigen vectors = \\n {Evectors}\")\n",
        "print(f\"Eigen values = \\n {Evalues}\")"
      ],
      "execution_count": 5,
      "outputs": [
        {
          "output_type": "stream",
          "text": [
            "Eigen vectors = \n",
            " [[-0.45056922 -0.66677184 -0.59363515]\n",
            " [ 0.19247228 -0.72187235  0.66472154]\n",
            " [ 0.87174641 -0.18524476 -0.45358856]]\n",
            "Eigen values = \n",
            " [4.74888619 1.56450706 0.01994008]\n"
          ],
          "name": "stdout"
        }
      ]
    },
    {
      "cell_type": "code",
      "metadata": {
        "id": "tFKx-_BLGlpJ",
        "colab_type": "code",
        "colab": {
          "base_uri": "https://localhost:8080/",
          "height": 101
        },
        "outputId": "e215d9aa-5602-47a3-b817-b40eceefd6ff"
      },
      "source": [
        "# Converting Evalues to a diagonal matrix\n",
        "Evalues_diag = zeros((X.shape[0], X.shape[1]))\n",
        "Evalues_diag[:X.shape[1], :X.shape[1]] = diag(Evalues)\n",
        "print(f\"Diagonalized form of Evalues = \\n {Evalues_diag}\")"
      ],
      "execution_count": 6,
      "outputs": [
        {
          "output_type": "stream",
          "text": [
            "Diagonalized form of Evalues = \n",
            " [[4.74888619 0.         0.        ]\n",
            " [0.         1.56450706 0.        ]\n",
            " [0.         0.         0.01994008]\n",
            " [0.         0.         0.        ]]\n"
          ],
          "name": "stdout"
        }
      ]
    },
    {
      "cell_type": "markdown",
      "metadata": {
        "id": "lvAt6z781CEi",
        "colab_type": "text"
      },
      "source": [
        "Projecting X using the Eigen vectors"
      ]
    },
    {
      "cell_type": "code",
      "metadata": {
        "id": "ikK60QngWIhA",
        "colab_type": "code",
        "colab": {
          "base_uri": "https://localhost:8080/",
          "height": 202
        },
        "outputId": "1f78d1bc-2fe9-49e0-929e-9720af2f752f"
      },
      "source": [
        "k = 2\n",
        "Evectors_k = Evectors[:,0:k]\n",
        "proj = X.dot(Evectors_k)\n",
        "print(f\"Selecting 2 principal axes = \\n {Evectors_k}\")\n",
        "print(\"\\n\")\n",
        "print(f\"Projected X using the above principal axes = \\n {proj}\")"
      ],
      "execution_count": 7,
      "outputs": [
        {
          "output_type": "stream",
          "text": [
            "Selecting 2 principal axes = \n",
            " [[-0.45056922 -0.66677184]\n",
            " [ 0.19247228 -0.72187235]\n",
            " [ 0.87174641 -0.18524476]]\n",
            "\n",
            "\n",
            "Projected X using the above principal axes = \n",
            " [[-2.95145599 -0.17610969]\n",
            " [ 1.37104342 -1.69406159]\n",
            " [-0.30682473  0.78694448]\n",
            " [ 1.8872373   1.0832268 ]]\n"
          ],
          "name": "stdout"
        }
      ]
    },
    {
      "cell_type": "markdown",
      "metadata": {
        "id": "NAfITv9A5HEI",
        "colab_type": "text"
      },
      "source": [
        "Reconstruction of X"
      ]
    },
    {
      "cell_type": "code",
      "metadata": {
        "id": "3qNa76JdOj9C",
        "colab_type": "code",
        "colab": {
          "base_uri": "https://localhost:8080/",
          "height": 101
        },
        "outputId": "650e7571-f5b3-48c2-a47e-97dc937ba955"
      },
      "source": [
        "recon = proj.dot(Evectors_k.T)+mean\n",
        "print(f\"Reconstruction of X using the new basis = \\n {recon}\")"
      ],
      "execution_count": 8,
      "outputs": [
        {
          "output_type": "stream",
          "text": [
            "Reconstruction of X using the new basis = \n",
            " [[ 2.94726021  2.05905526  0.95970224]\n",
            " [ 2.0118026   3.98678407  5.0090182 ]\n",
            " [ 1.11353336  1.87287129  3.0867493 ]\n",
            " [-0.07259617  2.08128939  4.94453025]]\n"
          ],
          "name": "stdout"
        }
      ]
    },
    {
      "cell_type": "markdown",
      "metadata": {
        "id": "4opDA4qLf2oW",
        "colab_type": "text"
      },
      "source": [
        "Reconstruction error"
      ]
    },
    {
      "cell_type": "code",
      "metadata": {
        "id": "YUviRlqYOnfK",
        "colab_type": "code",
        "colab": {
          "base_uri": "https://localhost:8080/",
          "height": 34
        },
        "outputId": "752b1f45-4ac1-42c7-bb1f-dfb52e5c75aa"
      },
      "source": [
        "print(mean_squared_error(X+mean, recon))"
      ],
      "execution_count": 9,
      "outputs": [
        {
          "output_type": "stream",
          "text": [
            "0.004985020477602166\n"
          ],
          "name": "stdout"
        }
      ]
    },
    {
      "cell_type": "markdown",
      "metadata": {
        "id": "Hp44jFmUSwDJ",
        "colab_type": "text"
      },
      "source": [
        "<h3>An alternate way to perform PCA: PCA by singular value decomposition of data matrix</h3>\n",
        "\n"
      ]
    },
    {
      "cell_type": "code",
      "metadata": {
        "id": "nk8fpq2oPss1",
        "colab_type": "code",
        "colab": {
          "base_uri": "https://localhost:8080/",
          "height": 437
        },
        "outputId": "02ab2ad5-67a8-4905-99e1-42e36f2d582b"
      },
      "source": [
        "U, S, VT = np.linalg.svd(X)\n",
        "\n",
        "print(f\"Unitary matrix = \\n {U}\")\n",
        "print(f\"Shape of unitary matrix = {U.shape}\")\n",
        "print(\"\\n\")\n",
        "print(f\"Diagonal matrix of singular values = \\n {S}\")\n",
        "print(f\"Shape of this matrix = {S.shape}\")\n",
        "print(\"\\n\")\n",
        "print(f\"Matrix of principal axes = \\n {VT}\")\n",
        "print(f\"Shape of this matrix = {VT.shape}\")\n",
        "print(\"\\n\")\n",
        "\n",
        "# Converting S to a diagonal matrix\n",
        "S_diag = zeros((X.shape[0], X.shape[1]))\n",
        "S_diag[:X.shape[1], :X.shape[1]] = diag(S)\n",
        "print(f\"Diagonalized form of S = \\n {S_diag}\")"
      ],
      "execution_count": 10,
      "outputs": [
        {
          "output_type": "stream",
          "text": [
            "Unitary matrix = \n",
            " [[-0.78195148 -0.08128939  0.36324086  0.5       ]\n",
            " [ 0.36324086 -0.78195148 -0.08128939  0.5       ]\n",
            " [-0.08128939  0.36324086 -0.78195148  0.5       ]\n",
            " [ 0.5         0.5         0.5         0.5       ]]\n",
            "Shape of unitary matrix = (4, 4)\n",
            "\n",
            "\n",
            "Diagonal matrix of singular values = \n",
            " [3.77447461 2.1664536  0.24458178]\n",
            "Shape of this matrix = (3,)\n",
            "\n",
            "\n",
            "Matrix of principal axes = \n",
            " [[-0.45056922  0.19247228  0.87174641]\n",
            " [-0.66677184 -0.72187235 -0.18524476]\n",
            " [ 0.59363515 -0.66472154  0.45358856]]\n",
            "Shape of this matrix = (3, 3)\n",
            "\n",
            "\n",
            "Diagonalized form of S = \n",
            " [[3.77447461 0.         0.        ]\n",
            " [0.         2.1664536  0.        ]\n",
            " [0.         0.         0.24458178]\n",
            " [0.         0.         0.        ]]\n"
          ],
          "name": "stdout"
        }
      ]
    },
    {
      "cell_type": "markdown",
      "metadata": {
        "id": "w3E3-oUCV-19",
        "colab_type": "text"
      },
      "source": [
        "* Eigen vectors are the columns of 'V' or rows of 'VT'.\n",
        "* Eigen values are present in the diagonal matrix of S."
      ]
    },
    {
      "cell_type": "markdown",
      "metadata": {
        "id": "uiKFdT0Yb3fa",
        "colab_type": "text"
      },
      "source": [
        "Reconstruction with minimum loss using first 2 components (k=2)"
      ]
    },
    {
      "cell_type": "code",
      "metadata": {
        "id": "BKPOQXWPWjdy",
        "colab_type": "code",
        "colab": {}
      },
      "source": [
        "k = 2\n",
        "U_k = U.T[0:k][0:k]\n",
        "U_kT = U_k.T\n",
        "S_diag_k = S_diag[0:2,0:2]\n",
        "VT_k = VT[0:k]"
      ],
      "execution_count": 0,
      "outputs": []
    },
    {
      "cell_type": "markdown",
      "metadata": {
        "id": "TaF8YhbXx828",
        "colab_type": "text"
      },
      "source": [
        "PC scores or Projected X"
      ]
    },
    {
      "cell_type": "code",
      "metadata": {
        "id": "iqw-SsnmyAyX",
        "colab_type": "code",
        "colab": {
          "base_uri": "https://localhost:8080/",
          "height": 84
        },
        "outputId": "cbfcd94a-67fe-4325-be75-519b8d69113f"
      },
      "source": [
        "projectedX = U_kT.dot(S_diag_k)\n",
        "print(projectedX)"
      ],
      "execution_count": 12,
      "outputs": [
        {
          "output_type": "stream",
          "text": [
            "[[-2.95145599 -0.17610969]\n",
            " [ 1.37104342 -1.69406159]\n",
            " [-0.30682473  0.78694448]\n",
            " [ 1.8872373   1.0832268 ]]\n"
          ],
          "name": "stdout"
        }
      ]
    },
    {
      "cell_type": "code",
      "metadata": {
        "id": "4QjUSHu3Yzas",
        "colab_type": "code",
        "colab": {
          "base_uri": "https://localhost:8080/",
          "height": 84
        },
        "outputId": "664d998f-6e9d-43fe-b568-f00231bd9f18"
      },
      "source": [
        "reconstruct_k = U_kT.dot(S_diag_k.dot(VT_k))\n",
        "reconstruct_k = reconstruct_k + mean\n",
        "print(reconstruct_k)"
      ],
      "execution_count": 13,
      "outputs": [
        {
          "output_type": "stream",
          "text": [
            "[[ 2.94726021  2.05905526  0.95970224]\n",
            " [ 2.0118026   3.98678407  5.0090182 ]\n",
            " [ 1.11353336  1.87287129  3.0867493 ]\n",
            " [-0.07259617  2.08128939  4.94453025]]\n"
          ],
          "name": "stdout"
        }
      ]
    },
    {
      "cell_type": "markdown",
      "metadata": {
        "id": "g0-wQs3af8Kf",
        "colab_type": "text"
      },
      "source": [
        "Reconstruction error"
      ]
    },
    {
      "cell_type": "code",
      "metadata": {
        "id": "Je69YcHjf7Ij",
        "colab_type": "code",
        "colab": {
          "base_uri": "https://localhost:8080/",
          "height": 34
        },
        "outputId": "26fdfb3e-a7c1-4d5b-ba2f-7743ac7f079a"
      },
      "source": [
        "print(mean_squared_error(X+mean, reconstruct_k))"
      ],
      "execution_count": 14,
      "outputs": [
        {
          "output_type": "stream",
          "text": [
            "0.0049850204776021615\n"
          ],
          "name": "stdout"
        }
      ]
    }
  ]
}