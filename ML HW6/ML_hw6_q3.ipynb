{
  "nbformat": 4,
  "nbformat_minor": 0,
  "metadata": {
    "colab": {
      "name": "ML_hw6_q3.ipynb",
      "provenance": [],
      "collapsed_sections": []
    },
    "kernelspec": {
      "name": "python3",
      "display_name": "Python 3"
    }
  },
  "cells": [
    {
      "cell_type": "code",
      "metadata": {
        "id": "ubHpdNE9Vp5P",
        "colab_type": "code",
        "colab": {}
      },
      "source": [
        "import numpy as np\n",
        "import matplotlib\n",
        "import matplotlib.pyplot as plt\n",
        "import pandas as pd\n",
        "\n",
        "url_votes = 'https://raw.githubusercontent.com/exemplary-citizen/PCA-and-Senate-Voting-Data/master/senator_pca_problem/senator_data_pca/'\n",
        "senator_df =  pd.read_csv(url_votes + 'data_matrix.csv',error_bad_lines=False)\n",
        "af = pd.read_csv(url_votes + 'politician_labels.txt', header=None)\n",
        "af[\"affiliations\"] = af[0].str.split().str[-1]"
      ],
      "execution_count": 0,
      "outputs": []
    },
    {
      "cell_type": "code",
      "metadata": {
        "id": "QWX5zlOQVun_",
        "colab_type": "code",
        "colab": {}
      },
      "source": [
        "X = np.array(senator_df.values[:, 3:].T, dtype='float64')"
      ],
      "execution_count": 0,
      "outputs": []
    },
    {
      "cell_type": "code",
      "metadata": {
        "id": "j5RYPTQiWJmP",
        "colab_type": "code",
        "colab": {
          "base_uri": "https://localhost:8080/",
          "height": 218
        },
        "outputId": "f83b81d9-c51c-42d9-c152-de8a3085f128"
      },
      "source": [
        "affiliations = af[\"affiliations\"]\n",
        "print(affiliations)\n",
        "aff_list = list(affiliations)"
      ],
      "execution_count": 3,
      "outputs": [
        {
          "output_type": "stream",
          "text": [
            "0      Red\n",
            "1     Blue\n",
            "2     Blue\n",
            "3     Blue\n",
            "4     Blue\n",
            "      ... \n",
            "95    Blue\n",
            "96    Blue\n",
            "97     Red\n",
            "98     Red\n",
            "99     Red\n",
            "Name: affiliations, Length: 100, dtype: object\n"
          ],
          "name": "stdout"
        }
      ]
    },
    {
      "cell_type": "code",
      "metadata": {
        "id": "OlW21Y6RXl48",
        "colab_type": "code",
        "colab": {
          "base_uri": "https://localhost:8080/",
          "height": 34
        },
        "outputId": "a4d1700a-6b18-46d4-a18c-cddd4c380e1a"
      },
      "source": [
        "from sklearn import preprocessing\n",
        "le = preprocessing.LabelEncoder()\n",
        "le.fit(affiliations)\n",
        "print(le.classes_)\n",
        "cat = le.transform(affiliations)"
      ],
      "execution_count": 4,
      "outputs": [
        {
          "output_type": "stream",
          "text": [
            "['Blue' 'Red' 'Yellow']\n"
          ],
          "name": "stdout"
        }
      ]
    },
    {
      "cell_type": "code",
      "metadata": {
        "id": "4sypieIaXyhy",
        "colab_type": "code",
        "colab": {}
      },
      "source": [
        "from sklearn.cluster import KMeans\n",
        "kmeans = KMeans(n_clusters=2).fit(X)\n",
        "labels = kmeans.predict(X)"
      ],
      "execution_count": 0,
      "outputs": []
    },
    {
      "cell_type": "code",
      "metadata": {
        "id": "lmVrcUvzSyTz",
        "colab_type": "code",
        "colab": {
          "base_uri": "https://localhost:8080/",
          "height": 34
        },
        "outputId": "64873b8a-dd50-4e36-965c-5565a764a52f"
      },
      "source": [
        "errors = []\n",
        "for i in range(0,100):\n",
        "  if cat[i]!=labels[i]:\n",
        "    errors.append(i)\n",
        "print(errors)    "
      ],
      "execution_count": 6,
      "outputs": [
        {
          "output_type": "stream",
          "text": [
            "[21, 34, 58, 62]\n"
          ],
          "name": "stdout"
        }
      ]
    },
    {
      "cell_type": "markdown",
      "metadata": {
        "id": "1Mw4iHdp5FDb",
        "colab_type": "text"
      },
      "source": [
        "Senators that were misclassified"
      ]
    },
    {
      "cell_type": "code",
      "metadata": {
        "id": "xLaAPCONT-bA",
        "colab_type": "code",
        "colab": {
          "base_uri": "https://localhost:8080/",
          "height": 34
        },
        "outputId": "1ff5fc2c-74a8-4377-c43f-299883ac9f14"
      },
      "source": [
        "error_list = []\n",
        "for i in errors:\n",
        "  error_list.append(af[0][i])\n",
        "print(error_list)  "
      ],
      "execution_count": 7,
      "outputs": [
        {
          "output_type": "stream",
          "text": [
            "['Nelson Blue', 'Jeffords Yellow', 'Chafee Red', 'Dayton Yellow']\n"
          ],
          "name": "stdout"
        }
      ]
    },
    {
      "cell_type": "markdown",
      "metadata": {
        "id": "v4oJ5iOr5a-Y",
        "colab_type": "text"
      },
      "source": [
        "> These senators were misclassified because kmeans forms cirular clusters and the data points of these senators were not within this circular cluster boundary. That is K means is quite sensitive to outliers. \n"
      ]
    },
    {
      "cell_type": "markdown",
      "metadata": {
        "id": "Bi0xTc6SZz2Y",
        "colab_type": "text"
      },
      "source": [
        "The results can be visualized by plotting data in a space of reduced dimensions"
      ]
    },
    {
      "cell_type": "code",
      "metadata": {
        "id": "buhNub2wTEj6",
        "colab_type": "code",
        "colab": {}
      },
      "source": [
        "X_mean = np.mean(X, axis = 0)\n",
        "X_original = X.copy()\n",
        "X = X - np.mean(X, axis = 0)\n",
        "\n",
        "from sklearn.decomposition import PCA\n",
        "pca = PCA(n_components=2)\n",
        "projected = pca.fit_transform(X)"
      ],
      "execution_count": 0,
      "outputs": []
    },
    {
      "cell_type": "code",
      "metadata": {
        "id": "mL70hlbbacQb",
        "colab_type": "code",
        "colab": {
          "base_uri": "https://localhost:8080/",
          "height": 265
        },
        "outputId": "16481456-5bbd-4d95-df23-46491676069a"
      },
      "source": [
        "from sklearn.cluster import KMeans\n",
        "kmeans = KMeans(2)\n",
        "labels = kmeans.fit(projected).predict(projected)\n",
        "plt.scatter(projected[:, 0], projected[:, 1], c=affiliations, s=40, cmap='viridis');\n",
        "ax = plt.gca()\n",
        "ax.axis('equal')\n",
        "plt.show();"
      ],
      "execution_count": 12,
      "outputs": [
        {
          "output_type": "display_data",
          "data": {
            "image/png": "[encoded data removed]",
            "text/plain": [
              "<Figure size 432x288 with 1 Axes>"
            ]
          },
          "metadata": {
            "tags": [],
            "needs_background": "light"
          }
        }
      ]
    },
    {
      "cell_type": "markdown",
      "metadata": {
        "id": "qMeu2VRS5Wws",
        "colab_type": "text"
      },
      "source": [
        "Misclassified senators"
      ]
    },
    {
      "cell_type": "code",
      "metadata": {
        "id": "_5-ZyHiVagr_",
        "colab_type": "code",
        "colab": {
          "base_uri": "https://localhost:8080/",
          "height": 134
        },
        "outputId": "26b49aca-4039-4faa-eec4-494b14a26cc6"
      },
      "source": [
        "repub = np.where(affiliations=='Red')\n",
        "repub = np.squeeze(repub)\n",
        "sen_id = np.where(projected[repub,0] >= 0)\n",
        "print(af[0][repub[sen_id]])\n",
        "\n",
        "repub = np.where(affiliations=='Blue')\n",
        "repub = np.squeeze(repub)\n",
        "sen_id = np.where(projected[repub,0] <= 0)\n",
        "print(af[0][repub[sen_id]])\n",
        "\n",
        "repub = np.where(affiliations=='Yellow')\n",
        "repub = np.squeeze(repub)\n",
        "print(af[0][repub])"
      ],
      "execution_count": 17,
      "outputs": [
        {
          "output_type": "stream",
          "text": [
            "58    Chafee Red\n",
            "Name: 0, dtype: object\n",
            "21    Nelson Blue\n",
            "Name: 0, dtype: object\n",
            "34    Jeffords Yellow\n",
            "62      Dayton Yellow\n",
            "Name: 0, dtype: object\n"
          ],
          "name": "stdout"
        }
      ]
    },
    {
      "cell_type": "code",
      "metadata": {
        "id": "RCPuvMlpakAZ",
        "colab_type": "code",
        "colab": {}
      },
      "source": [
        ""
      ],
      "execution_count": 0,
      "outputs": []
    }
  ]
}