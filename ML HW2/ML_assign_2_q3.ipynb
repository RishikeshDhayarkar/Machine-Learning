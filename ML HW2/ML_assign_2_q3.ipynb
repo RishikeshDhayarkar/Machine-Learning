{
  "nbformat": 4,
  "nbformat_minor": 0,
  "metadata": {
    "colab": {
      "name": "ML_assign_2_q3.ipynb",
      "provenance": [],
      "collapsed_sections": []
    },
    "kernelspec": {
      "name": "python3",
      "display_name": "Python 3"
    }
  },
  "cells": [
    {
      "cell_type": "markdown",
      "metadata": {
        "id": "A1SWAhtIHFu_",
        "colab_type": "text"
      },
      "source": [
        "Diabetes dataset using sklearn "
      ]
    },
    {
      "cell_type": "code",
      "metadata": {
        "id": "gWNRof2zyU4m",
        "colab_type": "code",
        "colab": {}
      },
      "source": [
        "%matplotlib inline\n",
        "import numpy as np\n",
        "import matplotlib\n",
        "import matplotlib.pyplot as plt\n",
        "from sklearn import datasets, linear_model, metrics"
      ],
      "execution_count": 0,
      "outputs": []
    },
    {
      "cell_type": "code",
      "metadata": {
        "id": "XzNqsSQGFlDr",
        "colab_type": "code",
        "colab": {}
      },
      "source": [
        "diabetes = datasets.load_diabetes()\n",
        "X = diabetes.data\n",
        "y = diabetes.target\n",
        "\n",
        "samp, natt = X.shape\n",
        "\n",
        "for i in range(natt):\n",
        "  attr_mean = np.mean(X[:,i])\n",
        "  attr_std = np.std(X[:,i])\n",
        "  X[:,i] = (X[:,i] - attr_mean)/attr_std"
      ],
      "execution_count": 0,
      "outputs": []
    },
    {
      "cell_type": "code",
      "metadata": {
        "id": "XMzVpo6DhGyQ",
        "colab_type": "code",
        "colab": {
          "base_uri": "https://localhost:8080/",
          "height": 87
        },
        "outputId": "655efe7a-d379-40be-ffdc-fc75700d582d"
      },
      "source": [
        "print(np.mean(X, axis = 0))\n",
        "print(np.std(X, axis = 0))"
      ],
      "execution_count": 4,
      "outputs": [
        {
          "output_type": "stream",
          "text": [
            "[-9.54490383e-18 -4.21985222e-17 -5.52599696e-17 -4.82268825e-17\n",
            "  5.52599696e-18 -1.35638107e-17 -2.81323481e-17 -1.48448373e-16\n",
            " -1.84932512e-17 -2.67508489e-17]\n",
            "[1. 1. 1. 1. 1. 1. 1. 1. 1. 1.]\n"
          ],
          "name": "stdout"
        }
      ]
    },
    {
      "cell_type": "code",
      "metadata": {
        "id": "2xSoZbDRF_hI",
        "colab_type": "code",
        "colab": {}
      },
      "source": [
        "samp, natt = X.shape"
      ],
      "execution_count": 0,
      "outputs": []
    },
    {
      "cell_type": "code",
      "metadata": {
        "id": "4zcwbhpkGIWm",
        "colab_type": "code",
        "outputId": "a2b48316-7810-4727-dbd3-4cbb2466c172",
        "colab": {
          "base_uri": "https://localhost:8080/",
          "height": 34
        }
      },
      "source": [
        "samp, natt"
      ],
      "execution_count": 6,
      "outputs": [
        {
          "output_type": "execute_result",
          "data": {
            "text/plain": [
              "(442, 10)"
            ]
          },
          "metadata": {
            "tags": []
          },
          "execution_count": 6
        }
      ]
    },
    {
      "cell_type": "code",
      "metadata": {
        "id": "cG_c4AqQGO5o",
        "colab_type": "code",
        "outputId": "13e9d408-7ceb-4412-8404-6251f7652211",
        "colab": {
          "base_uri": "https://localhost:8080/",
          "height": 34
        }
      },
      "source": [
        "regressor = linear_model.LinearRegression(fit_intercept=False, normalize=False)\n",
        "regressor.fit(X, y)"
      ],
      "execution_count": 7,
      "outputs": [
        {
          "output_type": "execute_result",
          "data": {
            "text/plain": [
              "LinearRegression(copy_X=True, fit_intercept=False, n_jobs=None, normalize=False)"
            ]
          },
          "metadata": {
            "tags": []
          },
          "execution_count": 7
        }
      ]
    },
    {
      "cell_type": "code",
      "metadata": {
        "id": "pXyVnxBlGYn6",
        "colab_type": "code",
        "outputId": "d9b4b956-35d8-48d8-c4e0-ade8cc9e906a",
        "colab": {
          "base_uri": "https://localhost:8080/",
          "height": 34
        }
      },
      "source": [
        "regressor.intercept_"
      ],
      "execution_count": 8,
      "outputs": [
        {
          "output_type": "execute_result",
          "data": {
            "text/plain": [
              "0.0"
            ]
          },
          "metadata": {
            "tags": []
          },
          "execution_count": 8
        }
      ]
    },
    {
      "cell_type": "code",
      "metadata": {
        "id": "xrKQHsgjGfUB",
        "colab_type": "code",
        "outputId": "2445fc33-bc25-48ab-a7bd-5f9f2113be3e",
        "colab": {
          "base_uri": "https://localhost:8080/",
          "height": 70
        }
      },
      "source": [
        "regressor.coef_"
      ],
      "execution_count": 9,
      "outputs": [
        {
          "output_type": "execute_result",
          "data": {
            "text/plain": [
              "array([ -0.47623169, -11.40703082,  24.72625713,  15.42967916,\n",
              "       -37.68035801,  22.67648701,   4.80620008,   8.422084  ,\n",
              "        35.73471316,   3.21661161])"
            ]
          },
          "metadata": {
            "tags": []
          },
          "execution_count": 9
        }
      ]
    },
    {
      "cell_type": "code",
      "metadata": {
        "id": "bBGdvgwYGhYG",
        "colab_type": "code",
        "outputId": "b94289e7-ff41-4719-e144-f7113a72b515",
        "colab": {
          "base_uri": "https://localhost:8080/",
          "height": 52
        }
      },
      "source": [
        "y_pred = regressor.predict(X)\n",
        "RSS = np.mean((y_pred-y)**2)/(np.std(y)**2)\n",
        "Rsq = 1 - RSS\n",
        "print(Rsq)\n",
        "mse = np.mean((y_pred-y)**2)\n",
        "print(mse)"
      ],
      "execution_count": 10,
      "outputs": [
        {
          "output_type": "stream",
          "text": [
            "-3.385293788056333\n",
            "26004.28740231017\n"
          ],
          "name": "stdout"
        }
      ]
    },
    {
      "cell_type": "markdown",
      "metadata": {
        "id": "dW2rovHxHLg1",
        "colab_type": "text"
      },
      "source": [
        "Diabetes dataset without using sklearn"
      ]
    },
    {
      "cell_type": "code",
      "metadata": {
        "id": "ixeKdAAVeAG_",
        "colab_type": "code",
        "colab": {}
      },
      "source": [
        "def MSE(X,y,w):\n",
        "  y_pred = X.dot(w)\n",
        "  return (1*np.linalg.norm(y_pred-y)**2)/442\n",
        "\n",
        "def MSE_gradient(X,y,w):\n",
        "  return (X.T.dot(X.dot(w)-y))/442"
      ],
      "execution_count": 0,
      "outputs": []
    },
    {
      "cell_type": "code",
      "metadata": {
        "id": "GJu7OvYgh9EA",
        "colab_type": "code",
        "colab": {}
      },
      "source": [
        "def gradient_descent(init, steps, grad):\n",
        "  xs = [init]\n",
        "  for step in steps:\n",
        "    xs.append(xs[-1] - step * grad(X,y,xs[-1])) \n",
        "  return xs"
      ],
      "execution_count": 0,
      "outputs": []
    },
    {
      "cell_type": "code",
      "metadata": {
        "id": "L0sBmr79iAkK",
        "colab_type": "code",
        "colab": {}
      },
      "source": [
        "n,d = samp,natt\n",
        "w0 = np.random.normal(0,1,d)\n",
        "ws = gradient_descent(w0,[0.1]*6000,MSE_gradient)"
      ],
      "execution_count": 0,
      "outputs": []
    },
    {
      "cell_type": "code",
      "metadata": {
        "id": "lIKqVK2GiE0I",
        "colab_type": "code",
        "colab": {
          "base_uri": "https://localhost:8080/",
          "height": 246
        },
        "outputId": "d0d4470b-eeec-4cd9-9e31-d8cdf891855b"
      },
      "source": [
        "all_mse = []\n",
        "for w in ws:\n",
        "  mse = MSE(X,y,w)\n",
        "  all_mse.append(mse)\n",
        "\n",
        "for i in range(len(all_mse)):\n",
        "  if i%500==0:\n",
        "    print(f'MSE at interation {i} = {all_mse[i]}')"
      ],
      "execution_count": 14,
      "outputs": [
        {
          "output_type": "stream",
          "text": [
            "MSE at interation 0 = 29139.86111223589\n",
            "MSE at interation 500 = 26013.848159460198\n",
            "MSE at interation 1000 = 26008.347652765853\n",
            "MSE at interation 1500 = 26006.011708990412\n",
            "MSE at interation 2000 = 26005.01968066765\n",
            "MSE at interation 2500 = 26004.598386196605\n",
            "MSE at interation 3000 = 26004.419470910365\n",
            "MSE at interation 3500 = 26004.34348918772\n",
            "MSE at interation 4000 = 26004.3112212787\n",
            "MSE at interation 4500 = 26004.297517746927\n",
            "MSE at interation 5000 = 26004.291698132663\n",
            "MSE at interation 5500 = 26004.289226659563\n",
            "MSE at interation 6000 = 26004.288177074657\n"
          ],
          "name": "stdout"
        }
      ]
    },
    {
      "cell_type": "code",
      "metadata": {
        "id": "Jf6VVXI0iH45",
        "colab_type": "code",
        "colab": {
          "base_uri": "https://localhost:8080/",
          "height": 34
        },
        "outputId": "a7b4e0f5-7f98-41f9-b15e-30379d6f6b27"
      },
      "source": [
        "y_prediction = X.dot(ws[-1])\n",
        "RSS_manual = np.mean((y_prediction-y)**2)/(np.std(y)**2)\n",
        "Rsq_manual = 1-RSS;Rsq"
      ],
      "execution_count": 15,
      "outputs": [
        {
          "output_type": "execute_result",
          "data": {
            "text/plain": [
              "-3.385293788056333"
            ]
          },
          "metadata": {
            "tags": []
          },
          "execution_count": 15
        }
      ]
    }
  ]
}