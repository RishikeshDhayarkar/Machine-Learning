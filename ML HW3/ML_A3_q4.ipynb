{
  "nbformat": 4,
  "nbformat_minor": 0,
  "metadata": {
    "colab": {
      "name": "ML_A3_q4.ipynb",
      "provenance": [],
      "collapsed_sections": []
    },
    "kernelspec": {
      "name": "python3",
      "display_name": "Python 3"
    }
  },
  "cells": [
    {
      "cell_type": "markdown",
      "metadata": {
        "id": "9egwRZHKxxJC",
        "colab_type": "text"
      },
      "source": [
        "<h1>Generation of data</h1>"
      ]
    },
    {
      "cell_type": "code",
      "metadata": {
        "id": "_yJ2blq52UBT",
        "colab_type": "code",
        "colab": {}
      },
      "source": [
        "import matplotlib.pyplot as plt\n",
        "import numpy as np\n",
        "import math"
      ],
      "execution_count": 0,
      "outputs": []
    },
    {
      "cell_type": "code",
      "metadata": {
        "id": "yxKGd0kj5y3f",
        "colab_type": "code",
        "colab": {}
      },
      "source": [
        "mean = [0.5, 0.5]\n",
        "cov = [[0.1, 0], [0, 0.1]]\n",
        "x1, y1 = np.random.multivariate_normal(mean, cov, 100).T"
      ],
      "execution_count": 0,
      "outputs": []
    },
    {
      "cell_type": "code",
      "metadata": {
        "id": "kcomOiIFaKlH",
        "colab_type": "code",
        "outputId": "88432e50-8fbf-4e10-9d21-6c6ee1b91c1a",
        "colab": {
          "base_uri": "https://localhost:8080/",
          "height": 52
        }
      },
      "source": [
        "first_sample = []\n",
        "for i in range(len(x1)):\n",
        "  new_list = [x1[i],y1[i],1]\n",
        "  first_sample.append(new_list)\n",
        "print(len(first_sample))\n",
        "print(len(first_sample[0]))    "
      ],
      "execution_count": 3,
      "outputs": [
        {
          "output_type": "stream",
          "text": [
            "100\n",
            "3\n"
          ],
          "name": "stdout"
        }
      ]
    },
    {
      "cell_type": "code",
      "metadata": {
        "id": "W7Zmmqe1rBBQ",
        "colab_type": "code",
        "outputId": "41f03013-f523-491f-dcdf-026725ca2b70",
        "colab": {
          "base_uri": "https://localhost:8080/",
          "height": 52
        }
      },
      "source": [
        "first_sample_X = []\n",
        "for i in range(len(x1)):\n",
        "  new_list = [x1[i],y1[i]]\n",
        "  first_sample_X.append(new_list)\n",
        "print(len(first_sample_X))\n",
        "print(len(first_sample_X[0])) "
      ],
      "execution_count": 4,
      "outputs": [
        {
          "output_type": "stream",
          "text": [
            "100\n",
            "2\n"
          ],
          "name": "stdout"
        }
      ]
    },
    {
      "cell_type": "code",
      "metadata": {
        "id": "p2kNll-R7Qfu",
        "colab_type": "code",
        "colab": {}
      },
      "source": [
        "mean = [-0.5, -0.5]\n",
        "cov = [[0.1, 0], [0, 0.1]]\n",
        "x2, y2 = np.random.multivariate_normal(mean, cov, 100).T"
      ],
      "execution_count": 0,
      "outputs": []
    },
    {
      "cell_type": "code",
      "metadata": {
        "id": "80uxKLBH9RSZ",
        "colab_type": "code",
        "outputId": "cb0757a0-14c3-4d35-b6ec-06b53c3d5420",
        "colab": {
          "base_uri": "https://localhost:8080/",
          "height": 52
        }
      },
      "source": [
        "second_sample = []\n",
        "for i in range(len(x2)):\n",
        "  new_list = [x2[i],y2[i],0]\n",
        "  second_sample.append(new_list)\n",
        "print(len(second_sample))\n",
        "print(len(second_sample[0]))  "
      ],
      "execution_count": 6,
      "outputs": [
        {
          "output_type": "stream",
          "text": [
            "100\n",
            "3\n"
          ],
          "name": "stdout"
        }
      ]
    },
    {
      "cell_type": "code",
      "metadata": {
        "id": "YyQpD1tcrhfG",
        "colab_type": "code",
        "outputId": "3246c1d7-ecb9-4756-fc5c-3682d3e2733f",
        "colab": {
          "base_uri": "https://localhost:8080/",
          "height": 52
        }
      },
      "source": [
        "second_sample_X = []\n",
        "for i in range(len(x2)):\n",
        "  new_list = [x2[i],y2[i]]\n",
        "  second_sample_X.append(new_list)\n",
        "print(len(second_sample_X))\n",
        "print(len(second_sample_X[0])) "
      ],
      "execution_count": 7,
      "outputs": [
        {
          "output_type": "stream",
          "text": [
            "100\n",
            "2\n"
          ],
          "name": "stdout"
        }
      ]
    },
    {
      "cell_type": "code",
      "metadata": {
        "id": "xAtVqU9mdNkt",
        "colab_type": "code",
        "colab": {}
      },
      "source": [
        "X_full = []\n",
        "y_full = []\n",
        "for i in range(100):\n",
        "  first = first_sample[i]\n",
        "  first_y = first[-1]\n",
        "  second = second_sample[i]\n",
        "  second_y = second[-1]\n",
        "  X_full.append(first)\n",
        "  y_full.append(first_y)\n",
        "  X_full.append(second)\n",
        "  y_full.append(second_y) \n",
        "X_full = np.asarray(X_full)\n",
        "y_full = np.asarray(y_full)"
      ],
      "execution_count": 0,
      "outputs": []
    },
    {
      "cell_type": "code",
      "metadata": {
        "id": "l_9HDWUnp0Wf",
        "colab_type": "code",
        "outputId": "5f2fe182-93a0-47fd-ad8e-178bbe7f9b6f",
        "colab": {
          "base_uri": "https://localhost:8080/",
          "height": 52
        }
      },
      "source": [
        "print(X_full.shape)\n",
        "print(y_full.shape)"
      ],
      "execution_count": 9,
      "outputs": [
        {
          "output_type": "stream",
          "text": [
            "(200, 3)\n",
            "(200,)\n"
          ],
          "name": "stdout"
        }
      ]
    },
    {
      "cell_type": "markdown",
      "metadata": {
        "id": "ga5IA1mJD_PC",
        "colab_type": "text"
      },
      "source": [
        "Input matrix X"
      ]
    },
    {
      "cell_type": "code",
      "metadata": {
        "id": "EEjeY1exr7W5",
        "colab_type": "code",
        "colab": {}
      },
      "source": [
        "X = []\n",
        "for i in range(100):\n",
        "  first = first_sample_X[i]\n",
        "  second = second_sample_X[i]\n",
        "  X.append(first)\n",
        "  X.append(second) \n",
        "X = np.asarray(X)"
      ],
      "execution_count": 0,
      "outputs": []
    },
    {
      "cell_type": "markdown",
      "metadata": {
        "id": "ZJJJXyVQEDjB",
        "colab_type": "text"
      },
      "source": [
        "Output matrix y"
      ]
    },
    {
      "cell_type": "code",
      "metadata": {
        "id": "Q0PWt4huso6k",
        "colab_type": "code",
        "outputId": "fa11f9a9-dd1e-4f59-c54c-065f6d09fe62",
        "colab": {
          "base_uri": "https://localhost:8080/",
          "height": 34
        }
      },
      "source": [
        "y = []\n",
        "for i in range(200):\n",
        "  y.append(y_full[i])\n",
        "y = np.asarray(y)\n",
        "print(y.shape)"
      ],
      "execution_count": 11,
      "outputs": [
        {
          "output_type": "stream",
          "text": [
            "(200,)\n"
          ],
          "name": "stdout"
        }
      ]
    },
    {
      "cell_type": "markdown",
      "metadata": {
        "id": "0LN_EnuDDkQN",
        "colab_type": "text"
      },
      "source": [
        "Plotting of generated data points"
      ]
    },
    {
      "cell_type": "code",
      "metadata": {
        "id": "RMsp2r-mDnqB",
        "colab_type": "code",
        "outputId": "198e8a30-2d3b-4f3a-9e0b-baccc9c7e5c4",
        "colab": {
          "base_uri": "https://localhost:8080/",
          "height": 266
        }
      },
      "source": [
        "import seaborn as sns\n",
        "sns.set_style('white')\n",
        "sns.scatterplot(X[:,0],X[:,1],hue=y.reshape(-1));"
      ],
      "execution_count": 12,
      "outputs": [
        {
          "output_type": "display_data",
          "data": {
            "image/png": "[encoded data removed]",
            "text/plain": [
              "<Figure size 432x288 with 1 Axes>"
            ]
          },
          "metadata": {
            "tags": []
          }
        }
      ]
    },
    {
      "cell_type": "markdown",
      "metadata": {
        "id": "tXfFUeufx6bZ",
        "colab_type": "text"
      },
      "source": [
        "<h1>Gradient Descent</h1>"
      ]
    },
    {
      "cell_type": "code",
      "metadata": {
        "id": "WwTSp71lcl0v",
        "colab_type": "code",
        "colab": {}
      },
      "source": [
        "def sigmoid(x):\n",
        "    return 1 / (1 + np.exp(-x))\n",
        "\n",
        "def Loss_function(X,y,w):\n",
        "  z = np.dot(X,w)\n",
        "  h = sigmoid(z) \n",
        "  loss = (-y * np.log(h) - (1 - y) * np.log(1 - h)).mean()\n",
        "  return loss\n",
        "\n",
        "def Loss_gradient(X,y,w):\n",
        "  z = np.dot(X,w)\n",
        "  h = sigmoid(z) \n",
        "  gradient = np.dot(X.T, (h - y))\n",
        "  return gradient\n",
        "\n",
        "def gradient_descent(init, steps, grad):\n",
        "  xs = [init]\n",
        "  for step in steps:\n",
        "    xs.append(xs[-1] - step * grad(X,y,xs[-1])) \n",
        "  return xs\n",
        "\n",
        "def predict(X,w):\n",
        "  return np.round(sigmoid(X @ w))"
      ],
      "execution_count": 0,
      "outputs": []
    },
    {
      "cell_type": "code",
      "metadata": {
        "id": "DGTCmlFUM-8L",
        "colab_type": "code",
        "outputId": "4998b77f-522a-453d-905e-8246ea36a24d",
        "colab": {
          "base_uri": "https://localhost:8080/",
          "height": 34
        }
      },
      "source": [
        "w0 = np.random.normal(0,1,2)\n",
        "import time\n",
        "t0 = time.time()\n",
        "ws = gradient_descent(w0,[0.01]*2500,Loss_gradient)\n",
        "run_time = time.time() - t0\n",
        "print(f'Total run time of gradient descent = {run_time}')"
      ],
      "execution_count": 14,
      "outputs": [
        {
          "output_type": "stream",
          "text": [
            "Total run time of gradient descent = 0.0442357063293457\n"
          ],
          "name": "stdout"
        }
      ]
    },
    {
      "cell_type": "code",
      "metadata": {
        "id": "5douWQTBnkZG",
        "colab_type": "code",
        "outputId": "c72e00fe-cd0d-4dcb-e73a-1182bf1956d0",
        "colab": {
          "base_uri": "https://localhost:8080/",
          "height": 34
        }
      },
      "source": [
        "y_pred = predict(X, ws[-1])\n",
        "RSS_manual = np.mean((y_pred-y)**2)/(np.std(y)**2)\n",
        "Rsq_manual = 1-RSS_manual\n",
        "print(f'Rsq value = {Rsq_manual}')"
      ],
      "execution_count": 15,
      "outputs": [
        {
          "output_type": "stream",
          "text": [
            "Rsq value = 0.98\n"
          ],
          "name": "stdout"
        }
      ]
    },
    {
      "cell_type": "markdown",
      "metadata": {
        "id": "0vaO_UXdHAs2",
        "colab_type": "text"
      },
      "source": [
        "Generating loss values at every iteration"
      ]
    },
    {
      "cell_type": "code",
      "metadata": {
        "id": "3RtXwIpkOJiJ",
        "colab_type": "code",
        "colab": {}
      },
      "source": [
        "all_losses = []\n",
        "for w in ws:\n",
        "  loss = Loss_function(X,y,w)\n",
        "  all_losses.append(loss)"
      ],
      "execution_count": 0,
      "outputs": []
    },
    {
      "cell_type": "code",
      "metadata": {
        "id": "-ahC4oftPNBa",
        "colab_type": "code",
        "outputId": "83874866-6594-4c1c-bd1d-f24fda2204e2",
        "colab": {
          "base_uri": "https://localhost:8080/",
          "height": 122
        }
      },
      "source": [
        "for i in range(len(all_losses)):\n",
        "  if i%500==0:\n",
        "    print(f'Loss at interation {i} = {all_losses[i]}')"
      ],
      "execution_count": 17,
      "outputs": [
        {
          "output_type": "stream",
          "text": [
            "Loss at interation 0 = 0.7596554868403856\n",
            "Loss at interation 500 = 0.033334104210441674\n",
            "Loss at interation 1000 = 0.030666553292922494\n",
            "Loss at interation 1500 = 0.029784494171249176\n",
            "Loss at interation 2000 = 0.029381430956705996\n",
            "Loss at interation 2500 = 0.029168876674928176\n"
          ],
          "name": "stdout"
        }
      ]
    },
    {
      "cell_type": "markdown",
      "metadata": {
        "id": "pIBr2mObHolr",
        "colab_type": "text"
      },
      "source": [
        "Plot of loss values v/s interations"
      ]
    },
    {
      "cell_type": "code",
      "metadata": {
        "id": "GqE-FS-CQjk5",
        "colab_type": "code",
        "outputId": "03c9fc37-5a27-4110-c483-fda4ef52ff7b",
        "colab": {
          "base_uri": "https://localhost:8080/",
          "height": 295
        }
      },
      "source": [
        "plt.figure()\n",
        "sns.set_style('white')\n",
        "plt.plot(range(len(all_losses)), all_losses, 'r')\n",
        "plt.title(\"Convergence Graph of Loss Function\")\n",
        "plt.xlabel(\"Number of Iterations\")\n",
        "plt.ylabel(\"Loss values\")\n",
        "plt.show()"
      ],
      "execution_count": 18,
      "outputs": [
        {
          "output_type": "display_data",
          "data": {
            "image/png": "[encoded data removed]",
            "text/plain": [
              "<Figure size 432x288 with 1 Axes>"
            ]
          },
          "metadata": {
            "tags": []
          }
        }
      ]
    },
    {
      "cell_type": "markdown",
      "metadata": {
        "id": "gYrMqRMGEH19",
        "colab_type": "text"
      },
      "source": [
        "Classification output using gradient descent"
      ]
    },
    {
      "cell_type": "code",
      "metadata": {
        "id": "JB4L44DHR4ZV",
        "colab_type": "code",
        "outputId": "08bc69db-4d2f-408d-c770-5fdcf2181b20",
        "colab": {
          "base_uri": "https://localhost:8080/",
          "height": 266
        }
      },
      "source": [
        "sns.set_style('white')\n",
        "sns.scatterplot(X[:,0],X[:,1],hue=y.reshape(-1));\n",
        "\n",
        "slope = -(ws[-1][0] / ws[-1][1])\n",
        "ax = plt.gca()\n",
        "ax.autoscale(False)\n",
        "x_vals = np.array(ax.get_xlim())\n",
        "y_vals = slope * x_vals\n",
        "plt.plot(x_vals, y_vals, c=\"k\");"
      ],
      "execution_count": 19,
      "outputs": [
        {
          "output_type": "display_data",
          "data": {
            "image/png": "[encoded data removed]",
            "text/plain": [
              "<Figure size 432x288 with 1 Axes>"
            ]
          },
          "metadata": {
            "tags": []
          }
        }
      ]
    },
    {
      "cell_type": "markdown",
      "metadata": {
        "id": "cZtgUQQpyAWE",
        "colab_type": "text"
      },
      "source": [
        "<h1>Stochastic Gradient Descent</h>"
      ]
    },
    {
      "cell_type": "markdown",
      "metadata": {
        "id": "g7Zv7-CFIBol",
        "colab_type": "text"
      },
      "source": [
        "Code for generating random subsets from the original dataset."
      ]
    },
    {
      "cell_type": "code",
      "metadata": {
        "id": "ECkYl2dYubPe",
        "colab_type": "code",
        "colab": {}
      },
      "source": [
        "import random\n",
        "def get_subsets(train_ratio,x):\n",
        "  nsamples = int(np.round(len(x)*train_ratio))\n",
        "  ind = random.sample(range(len(x)),nsamples)\n",
        "  ind = list(np.sort(ind))\n",
        "\n",
        "  x_sub_train = []\n",
        "  x_sub_test = []\n",
        "  y_sub_train = []\n",
        "  y_sub_test = []\n",
        "  for i in range(len(ind)):\n",
        "    l = x[i]\n",
        "    y_samp = l[-1]\n",
        "    x_samp = l[:2]\n",
        "    x_sub_train.append(x_samp)\n",
        "    y_sub_train.append(y_samp)\n",
        "\n",
        "  ind_test = []\n",
        "  for i in range(len(x)):\n",
        "    if i not in ind:\n",
        "      ind_test.append(i)\n",
        "\n",
        "  ind_test = list(np.sort(ind_test))\n",
        "  for i in range(len(ind)):\n",
        "    l = x[i]\n",
        "    y_samp = l[-1]\n",
        "    x_samp = l[:2]\n",
        "    x_sub_test.append(x_samp)\n",
        "    y_sub_test.append(y_samp) \n",
        "\n",
        "  x_sub_train = np.asarray(x_sub_train)\n",
        "  x_sub_test = np.asarray(x_sub_test)\n",
        "  y_sub_train = np.asarray(y_sub_train)\n",
        "  y_sub_test = np.asarray(y_sub_test) \n",
        "\n",
        "  return x_sub_train, y_sub_train, x_sub_test, y_sub_test"
      ],
      "execution_count": 0,
      "outputs": []
    },
    {
      "cell_type": "code",
      "metadata": {
        "id": "eX3ceBY0_YYL",
        "colab_type": "code",
        "colab": {}
      },
      "source": [
        "count = 0\n",
        "folds = 1400\n",
        "r2 = 0\n",
        "t0 = time.time()\n",
        "timer = []\n",
        "all_losses_SDG = []\n",
        "w0 = np.random.normal(0,1,2)\n",
        "while(count <= folds):\n",
        "  t_iter = time.time()\n",
        "\n",
        "  X, y, x_test, y_test  = get_subsets(0.2,X_full)\n",
        "  ws_sgd = gradient_descent(w0,[0.01]*1,Loss_gradient)\n",
        "  y_pred = predict(x_test, ws_sgd[-1])\n",
        "  rss = np.mean((y_pred-y_test)**2)/(np.std(y_test)**2)\n",
        "  r2 = 1 - rss\n",
        "  count+=1\n",
        "  w0 = ws_sgd[-1]\n",
        "\n",
        "  run_time = time.time() - t_iter\n",
        "  timer.append(run_time)\n",
        "\n",
        "  loss = Loss_function(x_test,y_test,ws_sgd[-1])\n",
        "  all_losses_SDG.append(loss)\n",
        "\n",
        "run_time = time.time() - t0"
      ],
      "execution_count": 0,
      "outputs": []
    },
    {
      "cell_type": "code",
      "metadata": {
        "id": "6_Ybb5gkDbZk",
        "colab_type": "code",
        "outputId": "eea33e47-9d06-4ec4-cbc0-fa6316c305c1",
        "colab": {
          "base_uri": "https://localhost:8080/",
          "height": 87
        }
      },
      "source": [
        "print(f'R-squared value using SGD = {r2}')\n",
        "print(f'Total running time for SGD = {run_time}')\n",
        "print(f'Average running time per iteration = {np.mean(timer)}')\n",
        "print(f'Loss achieved at the end of SGD = {all_losses_SDG[-1]}')"
      ],
      "execution_count": 22,
      "outputs": [
        {
          "output_type": "stream",
          "text": [
            "R-squared value using SGD = 1.0\n",
            "Total running time for SGD = 2.1669249534606934\n",
            "Average running time per iteration = 0.0015158466064104602\n",
            "Loss achieved at the end of SGD = 0.046255838445139565\n"
          ],
          "name": "stdout"
        }
      ]
    },
    {
      "cell_type": "code",
      "metadata": {
        "id": "056hXB1pjt75",
        "colab_type": "code",
        "outputId": "6a6f901e-99e0-4c67-b938-91766397d49e",
        "colab": {
          "base_uri": "https://localhost:8080/",
          "height": 295
        }
      },
      "source": [
        "plt.figure()\n",
        "sns.set_style('white')\n",
        "plt.plot(range(len(all_losses_SDG)), all_losses_SDG, 'r')\n",
        "plt.title(\"Convergence Graph of Cost Function\")\n",
        "plt.xlabel(\"Number of Iterations\")\n",
        "plt.ylabel(\"Cost\")\n",
        "plt.show()"
      ],
      "execution_count": 23,
      "outputs": [
        {
          "output_type": "display_data",
          "data": {
            "image/png": "[encoded data removed]",
            "text/plain": [
              "<Figure size 432x288 with 1 Axes>"
            ]
          },
          "metadata": {
            "tags": []
          }
        }
      ]
    },
    {
      "cell_type": "code",
      "metadata": {
        "id": "PE0VUx-bnBZd",
        "colab_type": "code",
        "outputId": "94eb8851-91fb-4f6a-8081-a24c79ca57ba",
        "colab": {
          "base_uri": "https://localhost:8080/",
          "height": 265
        }
      },
      "source": [
        "sns.set_style('white')\n",
        "sns.scatterplot(X[:,0],X[:,1],hue=y.reshape(-1));\n",
        "\n",
        "slope = -(ws_sgd[-1][0] / ws_sgd[-1][1])\n",
        "ax = plt.gca()\n",
        "ax.autoscale(False)\n",
        "x_vals = np.array(ax.get_xlim())\n",
        "y_vals = slope * x_vals\n",
        "plt.plot(x_vals, y_vals, c=\"k\");\n",
        "\n",
        "slope = -(ws[-1][0] / ws[-1][1])\n",
        "ax = plt.gca()\n",
        "ax.autoscale(False)\n",
        "x_vals = np.array(ax.get_xlim())\n",
        "y_vals = slope * x_vals\n",
        "plt.plot(x_vals, y_vals, c=\"k\");"
      ],
      "execution_count": 24,
      "outputs": [
        {
          "output_type": "display_data",
          "data": {
            "image/png": "[encoded data removed]",
            "text/plain": [
              "<Figure size 432x288 with 1 Axes>"
            ]
          },
          "metadata": {
            "tags": []
          }
        }
      ]
    },
    {
      "cell_type": "markdown",
      "metadata": {
        "id": "18GXCaDIb86d",
        "colab_type": "text"
      },
      "source": [
        "From the above results we can see that the gradient descent and Stochastic gradient descent give equally good results. The classifier generated in both the cases is of almost the same quality. \n",
        "\n",
        "From the run times displayed in this experiment we can see that, running time for SGD is greater than GD. Here both of these algorithms are made to run till they give a similar value for 'loss' and 'R-squared'. And to achive this SGD took more time than GD. From the above results we can see that SGD achieves the same result as that of GD but with a slower rate of convergence. But SGD is faster per iteration. "
      ]
    },
    {
      "cell_type": "code",
      "metadata": {
        "id": "lwVAzrxpnipm",
        "colab_type": "code",
        "colab": {}
      },
      "source": [
        ""
      ],
      "execution_count": 0,
      "outputs": []
    }
  ]
}